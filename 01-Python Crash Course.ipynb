{
  "metadata": {
    "kernelspec": {
      "name": "python",
      "display_name": "Python (Pyodide)",
      "language": "python"
    },
    "language_info": {
      "codemirror_mode": {
        "name": "python",
        "version": 3
      },
      "file_extension": ".py",
      "mimetype": "text/x-python",
      "name": "python",
      "nbconvert_exporter": "python",
      "pygments_lexer": "ipython3",
      "version": "3.8"
    }
  },
  "nbformat_minor": 4,
  "nbformat": 4,
  "cells": [
    {
      "cell_type": "markdown",
      "source": "This notebook will just go through the basic topics in order:\n\n* Data types\n    * Numbers\n    * Strings\n    * Printing\n    * Lists\n    * Dictionaries\n    * length of different data type\n    * Booleans\n    * Tuples \n* Comparison Operators\n* if, elif, else Statements\n* for Loops\n* while Loops\n* range()\n* functions\n\nwe have only learned Most fundamental of Python. We will discover other interesting grammer and syntax along our journey.\n\n- [Additionaly Resource](https://www.w3schools.com/python/) is provided for self-learning and research\n- **Research** is important skill of learning any knowledge\n- Since this course is not designed for Python only, you may have hard time to work/understand Python. [Additionaly Resource](https://www.w3schools.com/python/) is always the good starting point of python self-learning, and you can also contact me for additional help.",
      "metadata": {}
    },
    {
      "cell_type": "markdown",
      "source": "## Print",
      "metadata": {}
    },
    {
      "cell_type": "code",
      "source": "print(\"Hello! Welcome!\")",
      "metadata": {
        "trusted": true
      },
      "outputs": [
        {
          "name": "stdout",
          "output_type": "stream",
          "text": "Hello! Welcome!\n"
        }
      ],
      "execution_count": 103
    },
    {
      "cell_type": "code",
      "source": "print(\"Hello!\")\nprint(\"I am Alex!\")",
      "metadata": {
        "trusted": true
      },
      "outputs": [
        {
          "name": "stdout",
          "output_type": "stream",
          "text": "Hello!\nI am Alex!\n"
        }
      ],
      "execution_count": 104
    },
    {
      "cell_type": "markdown",
      "source": "### In-class practice: ",
      "metadata": {}
    },
    {
      "cell_type": "markdown",
      "source": "**Using print to write an introduction and Read it out loud**\n\nIt must include your:\n- name\n- school\n- hobby",
      "metadata": {}
    },
    {
      "cell_type": "code",
      "source": "",
      "metadata": {
        "trusted": true
      },
      "outputs": [
        {
          "name": "stdout",
          "output_type": "stream",
          "text": "Hello! My name is Alex Tian.\nI'm currently pursuing my master's degree in Electrical Engineering at the University of Victoria.\nI have a strong interest in Machine Learning and Data Analysis.\nRecently, I've been working on voltage anomaly detection for Schneider Electric.\nI also enjoy programming in Python and C, and I'm learning more about algorithms and statistical methods.\nLooking forward to collaborating and learning more! 🚀\n"
        }
      ],
      "execution_count": 99
    },
    {
      "cell_type": "markdown",
      "source": "## Numbers",
      "metadata": {}
    },
    {
      "cell_type": "code",
      "source": "1 + 1",
      "metadata": {
        "trusted": true
      },
      "outputs": [
        {
          "execution_count": 9,
          "output_type": "execute_result",
          "data": {
            "text/plain": "2"
          },
          "metadata": {}
        }
      ],
      "execution_count": 9
    },
    {
      "cell_type": "code",
      "source": "1 * 3",
      "metadata": {
        "trusted": true
      },
      "outputs": [
        {
          "execution_count": 16,
          "output_type": "execute_result",
          "data": {
            "text/plain": "3"
          },
          "metadata": {}
        }
      ],
      "execution_count": 16
    },
    {
      "cell_type": "code",
      "source": "1 / 2 # Division always returns float",
      "metadata": {
        "trusted": true
      },
      "outputs": [
        {
          "execution_count": 16,
          "output_type": "execute_result",
          "data": {
            "text/plain": "0.5"
          },
          "metadata": {}
        }
      ],
      "execution_count": 16
    },
    {
      "cell_type": "code",
      "source": "2 ** 4",
      "metadata": {
        "trusted": true
      },
      "outputs": [
        {
          "execution_count": 24,
          "output_type": "execute_result",
          "data": {
            "text/plain": "16"
          },
          "metadata": {}
        }
      ],
      "execution_count": 24
    },
    {
      "cell_type": "code",
      "source": "4 % 2",
      "metadata": {
        "trusted": true
      },
      "outputs": [
        {
          "execution_count": 25,
          "output_type": "execute_result",
          "data": {
            "text/plain": "0"
          },
          "metadata": {}
        }
      ],
      "execution_count": 25
    },
    {
      "cell_type": "code",
      "source": "5 % 2",
      "metadata": {
        "trusted": true
      },
      "outputs": [
        {
          "execution_count": 26,
          "output_type": "execute_result",
          "data": {
            "text/plain": "1"
          },
          "metadata": {}
        }
      ],
      "execution_count": 26
    },
    {
      "cell_type": "code",
      "source": "(2 + 3) * (5 + 5)",
      "metadata": {
        "trusted": true
      },
      "outputs": [
        {
          "execution_count": 27,
          "output_type": "execute_result",
          "data": {
            "text/plain": "50"
          },
          "metadata": {}
        }
      ],
      "execution_count": 27
    },
    {
      "cell_type": "markdown",
      "source": "### In-class practice: ",
      "metadata": {}
    },
    {
      "cell_type": "markdown",
      "source": "**What will be the output of 2/1? and what did you learn?**",
      "metadata": {}
    },
    {
      "cell_type": "code",
      "source": "",
      "metadata": {
        "trusted": true
      },
      "outputs": [],
      "execution_count": null
    },
    {
      "cell_type": "markdown",
      "source": "## Variable\n\nVariable Naming Rules:\n- Case Sensitivity: Python is case-sensitive (variable and Variable are different).\n- Must Start with a Letter or Underscore (_)\n    - ✅ my_variable, _private_var\n    - ❌ 123variable (Invalid: Cannot start with a number)\n- Can Contain Letters, Numbers, and Underscores\n    - ✅ var123, user_name\n    - ❌ user-name (Invalid: Hyphens are not allowed)",
      "metadata": {}
    },
    {
      "cell_type": "code",
      "source": "# Can not start with number or special characters\nname_of_var = 2\nprint(name_of_var)",
      "metadata": {
        "trusted": true
      },
      "outputs": [
        {
          "name": "stdout",
          "output_type": "stream",
          "text": "2\n"
        }
      ],
      "execution_count": 106
    },
    {
      "cell_type": "code",
      "source": "x = 2\ny = 3\nz = x + y\nprint(z)",
      "metadata": {
        "trusted": true
      },
      "outputs": [
        {
          "name": "stdout",
          "output_type": "stream",
          "text": "5\n"
        }
      ],
      "execution_count": 107
    },
    {
      "cell_type": "code",
      "source": "x = 'hello'\nprint(x)",
      "metadata": {
        "trusted": true
      },
      "outputs": [
        {
          "name": "stdout",
          "output_type": "stream",
          "text": "hello\n"
        }
      ],
      "execution_count": 108
    },
    {
      "cell_type": "markdown",
      "source": "### In-class practice:",
      "metadata": {}
    },
    {
      "cell_type": "markdown",
      "source": "**Print and Explain the Result of Calculation(Let computer handle the calculation procedure)**\n- $\\frac{8}{3}$\n- $3 \\times 3 + \\frac{3}{3 - 2}$",
      "metadata": {}
    },
    {
      "cell_type": "code",
      "source": "",
      "metadata": {
        "trusted": true
      },
      "outputs": [],
      "execution_count": null
    },
    {
      "cell_type": "markdown",
      "source": "**Create two variables, x = 5 and y = 10. Swap their values, so x = 10 and y = 5. You can **NOT** manually assigning values**",
      "metadata": {}
    },
    {
      "cell_type": "code",
      "source": "",
      "metadata": {
        "trusted": true
      },
      "outputs": [
        {
          "name": "stdout",
          "output_type": "stream",
          "text": "Before Swap: x = 5 , y = 10\nAfter Swap: x = 10 , y = 5\n"
        }
      ],
      "execution_count": 113
    },
    {
      "cell_type": "markdown",
      "source": "**Convert Temperature from Celsius to Fahrenheit**\n\nWrite a Python program that takes a temperature in Celsius 24 degree and converts it to Fahrenheit using the formula: $ F=(C×9/5)+32 $",
      "metadata": {}
    },
    {
      "cell_type": "code",
      "source": "",
      "metadata": {
        "trusted": true
      },
      "outputs": [
        {
          "name": "stdout",
          "output_type": "stream",
          "text": "24 degree in Fahrenheit is 75.2\n"
        }
      ],
      "execution_count": 114
    },
    {
      "cell_type": "markdown",
      "source": "## Comment",
      "metadata": {}
    },
    {
      "cell_type": "code",
      "source": "# This is a comment",
      "metadata": {
        "trusted": true
      },
      "outputs": [],
      "execution_count": 19
    },
    {
      "cell_type": "code",
      "source": "# Think about what is the differences between\n# print(\"2+3\")\n# print( 2+3 )\n# what will be the output?",
      "metadata": {
        "trusted": true
      },
      "outputs": [],
      "execution_count": 21
    },
    {
      "cell_type": "markdown",
      "source": "## f-string",
      "metadata": {}
    },
    {
      "cell_type": "code",
      "source": "num = 12\nname = 'Sam'\nprint(f'My number is: {num}, and my name is: {name}')",
      "metadata": {
        "trusted": true
      },
      "outputs": [
        {
          "name": "stdout",
          "output_type": "stream",
          "text": "My number is: 12, and my name is: Sam\n"
        }
      ],
      "execution_count": 109
    },
    {
      "cell_type": "markdown",
      "source": "### In-class practice: ",
      "metadata": {}
    },
    {
      "cell_type": "markdown",
      "source": "**Replace the previous introduction with f-string:**\n- name\n- school\n- hobby",
      "metadata": {}
    },
    {
      "cell_type": "code",
      "source": "",
      "metadata": {
        "trusted": true
      },
      "outputs": [
        {
          "name": "stdout",
          "output_type": "stream",
          "text": "Hello! My name is Alex Tian.\nI'm currently pursuing my master's degree in Electrical Engineering at the University of Victoria.\nI have a strong interest in Machine Learning and Data Analysis.\nRecently, I've been working on voltage anomaly detection for Schneider Electric.\nI also enjoy programming in Python and C, and I'm learning more about algorithms and statistical methods.\nLooking forward to collaborating and learning more! 🚀\n"
        }
      ],
      "execution_count": 112
    },
    {
      "cell_type": "markdown",
      "source": "## Comparison Operators\n\n**Note**: Comparsion is not updating value. = means assign(update) value, but == means compare value",
      "metadata": {}
    },
    {
      "cell_type": "code",
      "source": "1 > 2",
      "metadata": {
        "trusted": true
      },
      "outputs": [
        {
          "execution_count": 117,
          "output_type": "execute_result",
          "data": {
            "text/plain": "False"
          },
          "metadata": {}
        }
      ],
      "execution_count": 117
    },
    {
      "cell_type": "code",
      "source": "1 < 2",
      "metadata": {
        "trusted": true
      },
      "outputs": [
        {
          "execution_count": 118,
          "output_type": "execute_result",
          "data": {
            "text/plain": "True"
          },
          "metadata": {}
        }
      ],
      "execution_count": 118
    },
    {
      "cell_type": "code",
      "source": "1 >= 1",
      "metadata": {
        "trusted": true
      },
      "outputs": [
        {
          "execution_count": 119,
          "output_type": "execute_result",
          "data": {
            "text/plain": "True"
          },
          "metadata": {}
        }
      ],
      "execution_count": 119
    },
    {
      "cell_type": "code",
      "source": "1 <= 4",
      "metadata": {
        "trusted": true
      },
      "outputs": [
        {
          "execution_count": 120,
          "output_type": "execute_result",
          "data": {
            "text/plain": "True"
          },
          "metadata": {}
        }
      ],
      "execution_count": 120
    },
    {
      "cell_type": "code",
      "source": "1 == 1",
      "metadata": {
        "trusted": true
      },
      "outputs": [
        {
          "execution_count": 121,
          "output_type": "execute_result",
          "data": {
            "text/plain": "True"
          },
          "metadata": {}
        }
      ],
      "execution_count": 121
    },
    {
      "cell_type": "code",
      "source": "'hi' == 'bye'",
      "metadata": {
        "trusted": true
      },
      "outputs": [
        {
          "execution_count": 122,
          "output_type": "execute_result",
          "data": {
            "text/plain": "False"
          },
          "metadata": {}
        }
      ],
      "execution_count": 122
    },
    {
      "cell_type": "code",
      "source": "'hi' == 'hi'",
      "metadata": {
        "trusted": true
      },
      "outputs": [
        {
          "execution_count": 123,
          "output_type": "execute_result",
          "data": {
            "text/plain": "True"
          },
          "metadata": {}
        }
      ],
      "execution_count": 123
    },
    {
      "cell_type": "markdown",
      "source": "## Logic Operators",
      "metadata": {}
    },
    {
      "cell_type": "code",
      "source": "(1 > 2) and (2 < 3)",
      "metadata": {
        "trusted": true
      },
      "outputs": [
        {
          "execution_count": 124,
          "output_type": "execute_result",
          "data": {
            "text/plain": "False"
          },
          "metadata": {}
        }
      ],
      "execution_count": 124
    },
    {
      "cell_type": "code",
      "source": "(1 > 2) & (2 < 3)",
      "metadata": {
        "trusted": true
      },
      "outputs": [
        {
          "execution_count": 128,
          "output_type": "execute_result",
          "data": {
            "text/plain": "False"
          },
          "metadata": {}
        }
      ],
      "execution_count": 128
    },
    {
      "cell_type": "code",
      "source": "(1 > 2) or (2 < 3)",
      "metadata": {
        "trusted": true
      },
      "outputs": [
        {
          "execution_count": 125,
          "output_type": "execute_result",
          "data": {
            "text/plain": "True"
          },
          "metadata": {}
        }
      ],
      "execution_count": 125
    },
    {
      "cell_type": "code",
      "source": "(1 > 2) | (2 < 3)",
      "metadata": {
        "trusted": true
      },
      "outputs": [
        {
          "execution_count": 129,
          "output_type": "execute_result",
          "data": {
            "text/plain": "True"
          },
          "metadata": {}
        }
      ],
      "execution_count": 129
    },
    {
      "cell_type": "code",
      "source": "(1 == 2) or (2 == 3) or (4 == 4)",
      "metadata": {
        "trusted": true
      },
      "outputs": [
        {
          "execution_count": 126,
          "output_type": "execute_result",
          "data": {
            "text/plain": "True"
          },
          "metadata": {}
        }
      ],
      "execution_count": 126
    },
    {
      "cell_type": "code",
      "source": "(1 == 2) | (2 == 3) | (4 == 4)",
      "metadata": {
        "trusted": true
      },
      "outputs": [
        {
          "execution_count": 130,
          "output_type": "execute_result",
          "data": {
            "text/plain": "True"
          },
          "metadata": {}
        }
      ],
      "execution_count": 130
    },
    {
      "cell_type": "markdown",
      "source": "## if,elif, else Statements\n\n- It's important to use the correct **indentation**",
      "metadata": {}
    },
    {
      "cell_type": "code",
      "source": "if 1 < 2:\n    print('Yep!')",
      "metadata": {
        "trusted": true
      },
      "outputs": [
        {
          "name": "stdout",
          "output_type": "stream",
          "text": "Yep!\n"
        }
      ],
      "execution_count": 131
    },
    {
      "cell_type": "code",
      "source": "if 1 < 2:\n    print('first')\nelse:\n    print('last')",
      "metadata": {
        "trusted": true
      },
      "outputs": [
        {
          "name": "stdout",
          "output_type": "stream",
          "text": "first\n"
        }
      ],
      "execution_count": 132
    },
    {
      "cell_type": "code",
      "source": "if 1 > 2:\n    print('first')\nelse:\n    print('last')",
      "metadata": {
        "trusted": true
      },
      "outputs": [
        {
          "name": "stdout",
          "output_type": "stream",
          "text": "last\n"
        }
      ],
      "execution_count": 133
    },
    {
      "cell_type": "code",
      "source": "if 1 == 2:\n    print('first')\nelif 3 == 3:\n    print('middle')\nelse:\n    print('Last')",
      "metadata": {
        "trusted": true
      },
      "outputs": [
        {
          "name": "stdout",
          "output_type": "stream",
          "text": "middle\n"
        }
      ],
      "execution_count": 134
    },
    {
      "cell_type": "markdown",
      "source": "### In-class practice: ",
      "metadata": {}
    },
    {
      "cell_type": "markdown",
      "source": "**Check if a Number is Positive**\n\nWrite a Python program that takes an integer and checks if it is **positive** or **negative**.",
      "metadata": {}
    },
    {
      "cell_type": "code",
      "source": "number = -10 # change accordingly",
      "metadata": {
        "trusted": true
      },
      "outputs": [],
      "execution_count": 135
    },
    {
      "cell_type": "code",
      "source": "",
      "metadata": {
        "trusted": true
      },
      "outputs": [
        {
          "name": "stdout",
          "output_type": "stream",
          "text": "The number is negative.\n"
        }
      ],
      "execution_count": 136
    },
    {
      "cell_type": "markdown",
      "source": "**Check if a Number is Even or Odd**\n\nWrite a program that checks whether an positive integer number is **even** or **odd**.",
      "metadata": {}
    },
    {
      "cell_type": "code",
      "source": "number = 9 # change accordingly",
      "metadata": {
        "trusted": true
      },
      "outputs": [],
      "execution_count": 137
    },
    {
      "cell_type": "code",
      "source": "",
      "metadata": {
        "trusted": true
      },
      "outputs": [
        {
          "name": "stdout",
          "output_type": "stream",
          "text": "9 is an odd number.\n"
        }
      ],
      "execution_count": 138
    },
    {
      "cell_type": "markdown",
      "source": "**Find the Greater of Two Numbers**\n\nWrite a program that takes two numbers and prints the greater one.",
      "metadata": {}
    },
    {
      "cell_type": "code",
      "source": "a = 5   # change accordingly\nb = 10  # change accordingly",
      "metadata": {
        "trusted": true
      },
      "outputs": [],
      "execution_count": 139
    },
    {
      "cell_type": "code",
      "source": "",
      "metadata": {
        "trusted": true
      },
      "outputs": [
        {
          "name": "stdout",
          "output_type": "stream",
          "text": "10 is greater than 5.\n"
        }
      ],
      "execution_count": 140
    },
    {
      "cell_type": "markdown",
      "source": "**Check if a Number is Positive, Negative, or Zero**\n\nWrite a program that checks if a number is positive, negative, or zero.",
      "metadata": {}
    },
    {
      "cell_type": "code",
      "source": "number = 0  # change accordingly",
      "metadata": {
        "trusted": true
      },
      "outputs": [],
      "execution_count": 142
    },
    {
      "cell_type": "code",
      "source": "",
      "metadata": {
        "trusted": true
      },
      "outputs": [
        {
          "name": "stdout",
          "output_type": "stream",
          "text": "The number is zero.\n"
        }
      ],
      "execution_count": 143
    },
    {
      "cell_type": "markdown",
      "source": "**Find the Largest of Three Numbers**\n\nWrite a program that finds the largest of three numbers.",
      "metadata": {}
    },
    {
      "cell_type": "code",
      "source": "a = 7\nb = 12\nc = 5",
      "metadata": {
        "trusted": true
      },
      "outputs": [],
      "execution_count": 144
    },
    {
      "cell_type": "code",
      "source": "",
      "metadata": {
        "trusted": true
      },
      "outputs": [
        {
          "name": "stdout",
          "output_type": "stream",
          "text": "The largest number is 12\n"
        }
      ],
      "execution_count": 145
    },
    {
      "cell_type": "markdown",
      "source": "**Determine Leap Year**\n\nWrite a program that checks if a given year is a leap year. A year is a leap year if:\n- It is divisible by 4, AND\n- If it is divisible by 100, then it must also be divisible by 400.",
      "metadata": {}
    },
    {
      "cell_type": "code",
      "source": "year = 2024",
      "metadata": {
        "trusted": true
      },
      "outputs": [],
      "execution_count": 146
    },
    {
      "cell_type": "code",
      "source": "",
      "metadata": {
        "trusted": true
      },
      "outputs": [
        {
          "name": "stdout",
          "output_type": "stream",
          "text": "2024 is a leap year.\n"
        }
      ],
      "execution_count": 147
    },
    {
      "cell_type": "markdown",
      "source": "## for Loops\n\n- It's important to use the correct **indentation**",
      "metadata": {}
    },
    {
      "cell_type": "code",
      "source": "for i in range(1, 11):\n    print(i)",
      "metadata": {
        "trusted": true
      },
      "outputs": [
        {
          "name": "stdout",
          "output_type": "stream",
          "text": "1\n2\n3\n4\n5\n6\n7\n8\n9\n10\n"
        }
      ],
      "execution_count": 164
    },
    {
      "cell_type": "code",
      "source": "for i in range(0, 11, 2):\n    print(i)",
      "metadata": {
        "trusted": true
      },
      "outputs": [
        {
          "name": "stdout",
          "output_type": "stream",
          "text": "0\n3\n6\n9\n"
        }
      ],
      "execution_count": 163
    },
    {
      "cell_type": "markdown",
      "source": "### In-class practice: ",
      "metadata": {}
    },
    {
      "cell_type": "markdown",
      "source": "**Sum of Numbers from 1 to 100**\n\nCalculate and print the sum of numbers from 1 to 100 using a for loop.\n\n**Expected Result**: 5050",
      "metadata": {}
    },
    {
      "cell_type": "code",
      "source": "",
      "metadata": {
        "trusted": true
      },
      "outputs": [
        {
          "name": "stdout",
          "output_type": "stream",
          "text": "Sum: 5050\n"
        }
      ],
      "execution_count": 165
    },
    {
      "cell_type": "markdown",
      "source": "**Print Even Numbers from 1 to 20**\n\nWrite a program that prints all even numbers between 1 and 20.",
      "metadata": {}
    },
    {
      "cell_type": "code",
      "source": "",
      "metadata": {
        "trusted": true
      },
      "outputs": [
        {
          "name": "stdout",
          "output_type": "stream",
          "text": "2\n4\n6\n8\n10\n12\n14\n16\n18\n20\n"
        }
      ],
      "execution_count": 166
    },
    {
      "cell_type": "markdown",
      "source": "**Print the Multiplication Table of a Number**\n\nWrite a program that prints the multiplication table from $5*1$ to $5*10$.\n\n5 x 1 = 5\n\n5 x 2 = 10\n\n...\n\n5 x 10 = 50\n",
      "metadata": {}
    },
    {
      "cell_type": "code",
      "source": "",
      "metadata": {
        "trusted": true
      },
      "outputs": [
        {
          "name": "stdout",
          "output_type": "stream",
          "text": "5 x 1 = 5\n5 x 2 = 10\n5 x 3 = 15\n5 x 4 = 20\n5 x 5 = 25\n5 x 6 = 30\n5 x 7 = 35\n5 x 8 = 40\n5 x 9 = 45\n5 x 10 = 50\n"
        }
      ],
      "execution_count": 167
    },
    {
      "cell_type": "markdown",
      "source": "## Lists",
      "metadata": {}
    },
    {
      "cell_type": "code",
      "source": "[1,2,3]",
      "metadata": {},
      "outputs": [
        {
          "data": {
            "text/plain": [
              "[1, 2, 3]"
            ]
          },
          "execution_count": 26,
          "metadata": {},
          "output_type": "execute_result"
        }
      ],
      "execution_count": 26
    },
    {
      "cell_type": "code",
      "source": "['hi',1,[1,2]]",
      "metadata": {},
      "outputs": [
        {
          "data": {
            "text/plain": [
              "['hi', 1, [1, 2]]"
            ]
          },
          "execution_count": 27,
          "metadata": {},
          "output_type": "execute_result"
        }
      ],
      "execution_count": 27
    },
    {
      "cell_type": "code",
      "source": "my_list = ['a','b','c']",
      "metadata": {
        "trusted": true
      },
      "outputs": [],
      "execution_count": 22
    },
    {
      "cell_type": "code",
      "source": "my_list.append('d')",
      "metadata": {
        "trusted": true
      },
      "outputs": [],
      "execution_count": 23
    },
    {
      "cell_type": "code",
      "source": "my_list",
      "metadata": {
        "trusted": true
      },
      "outputs": [
        {
          "execution_count": 24,
          "output_type": "execute_result",
          "data": {
            "text/plain": "['a', 'b', 'c', 'd']"
          },
          "metadata": {}
        }
      ],
      "execution_count": 24
    },
    {
      "cell_type": "code",
      "source": "my_list[0]",
      "metadata": {
        "trusted": true
      },
      "outputs": [
        {
          "execution_count": 25,
          "output_type": "execute_result",
          "data": {
            "text/plain": "'a'"
          },
          "metadata": {}
        }
      ],
      "execution_count": 25
    },
    {
      "cell_type": "code",
      "source": "my_list[1]",
      "metadata": {},
      "outputs": [
        {
          "data": {
            "text/plain": [
              "'b'"
            ]
          },
          "execution_count": 32,
          "metadata": {},
          "output_type": "execute_result"
        }
      ],
      "execution_count": 32
    },
    {
      "cell_type": "code",
      "source": "my_list[1:]",
      "metadata": {
        "trusted": true
      },
      "outputs": [
        {
          "execution_count": 26,
          "output_type": "execute_result",
          "data": {
            "text/plain": "['b', 'c', 'd']"
          },
          "metadata": {}
        }
      ],
      "execution_count": 26
    },
    {
      "cell_type": "code",
      "source": "my_list[:1]",
      "metadata": {
        "trusted": true
      },
      "outputs": [
        {
          "execution_count": 27,
          "output_type": "execute_result",
          "data": {
            "text/plain": "['a']"
          },
          "metadata": {}
        }
      ],
      "execution_count": 27
    },
    {
      "cell_type": "code",
      "source": "my_list[0] = 'NEW'",
      "metadata": {
        "trusted": true
      },
      "outputs": [],
      "execution_count": 28
    },
    {
      "cell_type": "code",
      "source": "my_list",
      "metadata": {
        "trusted": true
      },
      "outputs": [
        {
          "execution_count": 29,
          "output_type": "execute_result",
          "data": {
            "text/plain": "['NEW', 'b', 'c', 'd']"
          },
          "metadata": {}
        }
      ],
      "execution_count": 29
    },
    {
      "cell_type": "code",
      "source": "nest = [1,2,3,[4,5,['target']]]",
      "metadata": {
        "trusted": true
      },
      "outputs": [],
      "execution_count": 30
    },
    {
      "cell_type": "code",
      "source": "nest[3]",
      "metadata": {
        "trusted": true
      },
      "outputs": [
        {
          "execution_count": 31,
          "output_type": "execute_result",
          "data": {
            "text/plain": "[4, 5, ['target']]"
          },
          "metadata": {}
        }
      ],
      "execution_count": 31
    },
    {
      "cell_type": "code",
      "source": "nest[3][1]",
      "metadata": {
        "trusted": true
      },
      "outputs": [
        {
          "execution_count": 33,
          "output_type": "execute_result",
          "data": {
            "text/plain": "5"
          },
          "metadata": {}
        }
      ],
      "execution_count": 33
    },
    {
      "cell_type": "code",
      "source": "nest[3][2]",
      "metadata": {
        "trusted": true
      },
      "outputs": [
        {
          "execution_count": 35,
          "output_type": "execute_result",
          "data": {
            "text/plain": "['target']"
          },
          "metadata": {}
        }
      ],
      "execution_count": 35
    },
    {
      "cell_type": "code",
      "source": "nest[3][2][0]",
      "metadata": {
        "trusted": true
      },
      "outputs": [
        {
          "execution_count": 34,
          "output_type": "execute_result",
          "data": {
            "text/plain": "'target'"
          },
          "metadata": {}
        }
      ],
      "execution_count": 34
    },
    {
      "cell_type": "code",
      "source": "seq = [1,2,3,4,5]\n\nfor item in seq:\n    print(item)",
      "metadata": {
        "trusted": true
      },
      "outputs": [
        {
          "name": "stdout",
          "output_type": "stream",
          "text": "1\n2\n3\n4\n5\n"
        }
      ],
      "execution_count": 159
    },
    {
      "cell_type": "code",
      "source": "for item in seq:\n    print('Yep')",
      "metadata": {
        "trusted": true
      },
      "outputs": [
        {
          "name": "stdout",
          "output_type": "stream",
          "text": "Yep\nYep\nYep\nYep\nYep\n"
        }
      ],
      "execution_count": 160
    },
    {
      "cell_type": "code",
      "source": "for jelly in seq:\n    print(jelly+jelly)",
      "metadata": {
        "trusted": true
      },
      "outputs": [
        {
          "name": "stdout",
          "output_type": "stream",
          "text": "2\n4\n6\n8\n10\n"
        }
      ],
      "execution_count": 161
    },
    {
      "cell_type": "markdown",
      "source": "### In-class practice: ",
      "metadata": {}
    },
    {
      "cell_type": "markdown",
      "source": "**Create and Print a List**\n\nCreate a list containing the names of five fruits and print each fruit on a new line.\n- Apple\n- Banana\n- Cherry\n- Mango\n- Orange",
      "metadata": {}
    },
    {
      "cell_type": "code",
      "source": "",
      "metadata": {
        "trusted": true
      },
      "outputs": [
        {
          "name": "stdout",
          "output_type": "stream",
          "text": "Apple\nBanana\nCherry\nMango\nOrange\n"
        }
      ],
      "execution_count": 148
    },
    {
      "cell_type": "markdown",
      "source": "**Access Elements by Index**\n\nCreate a list of five numbers and print:\n- The first element\n- The last element\n- The third element",
      "metadata": {}
    },
    {
      "cell_type": "code",
      "source": "numbers = [10, 20, 30, 40, 50]",
      "metadata": {
        "trusted": true
      },
      "outputs": [],
      "execution_count": 149
    },
    {
      "cell_type": "code",
      "source": "",
      "metadata": {
        "trusted": true
      },
      "outputs": [
        {
          "name": "stdout",
          "output_type": "stream",
          "text": "First element: 10\nLast element: 50\nThird element: 30\n"
        }
      ],
      "execution_count": 150
    },
    {
      "cell_type": "markdown",
      "source": "**Modify a List Element**\n\nCreate a list of three colors. Change the **second** color to \"**Purple**\" and print the modified list.",
      "metadata": {}
    },
    {
      "cell_type": "code",
      "source": "colors = [\"Red\", \"Green\", \"Blue\"]",
      "metadata": {
        "trusted": true
      },
      "outputs": [],
      "execution_count": 151
    },
    {
      "cell_type": "code",
      "source": "",
      "metadata": {
        "trusted": true
      },
      "outputs": [
        {
          "name": "stdout",
          "output_type": "stream",
          "text": "['Red', 'Purple', 'Blue']\n"
        }
      ],
      "execution_count": 152
    },
    {
      "cell_type": "markdown",
      "source": "**Sort a List**\n\nCreate a list of numbers and print them in ascending order.\n\n**NOTE**: This question require to do some research in-class, and you are allowed to go to this [Web](https://www.w3schools.com/python/python_lists.asp) and looking for solution",
      "metadata": {}
    },
    {
      "cell_type": "code",
      "source": "numbers = [15, 2, 20, 5, 10]",
      "metadata": {
        "trusted": true
      },
      "outputs": [],
      "execution_count": 153
    },
    {
      "cell_type": "code",
      "source": "",
      "metadata": {
        "trusted": true
      },
      "outputs": [
        {
          "name": "stdout",
          "output_type": "stream",
          "text": "Sorted numbers: [2, 5, 10, 15, 20]\n"
        }
      ],
      "execution_count": 154
    },
    {
      "cell_type": "markdown",
      "source": "**Find the Second Largest Number**\n\nWrite a program to find the second largest number in a list.\n\n**Requirement**: using sort we have just learned",
      "metadata": {}
    },
    {
      "cell_type": "code",
      "source": "numbers = [10, 20, 50, 5, 2]",
      "metadata": {
        "trusted": true
      },
      "outputs": [],
      "execution_count": 155
    },
    {
      "cell_type": "code",
      "source": "",
      "metadata": {
        "trusted": true
      },
      "outputs": [
        {
          "name": "stdout",
          "output_type": "stream",
          "text": "5\n"
        }
      ],
      "execution_count": 156
    },
    {
      "cell_type": "markdown",
      "source": "**Find the Maximum in a List**\n\nFind the largest number in a given list.\n\n**Requirement**: using for and if statement",
      "metadata": {}
    },
    {
      "cell_type": "code",
      "source": "numbers = [12, 45, 78, 23, 56, 99, 34]",
      "metadata": {
        "trusted": true
      },
      "outputs": [],
      "execution_count": 168
    },
    {
      "cell_type": "code",
      "source": "",
      "metadata": {
        "trusted": true
      },
      "outputs": [
        {
          "name": "stdout",
          "output_type": "stream",
          "text": "Largest number: 99\n"
        }
      ],
      "execution_count": 169
    },
    {
      "cell_type": "markdown",
      "source": "## Tuples ",
      "metadata": {}
    },
    {
      "cell_type": "code",
      "source": "t = (1,2,3)\nt[0]",
      "metadata": {
        "trusted": true
      },
      "outputs": [
        {
          "execution_count": 177,
          "output_type": "execute_result",
          "data": {
            "text/plain": "1"
          },
          "metadata": {}
        }
      ],
      "execution_count": 177
    },
    {
      "cell_type": "code",
      "source": "t[0] = 'NEW'",
      "metadata": {
        "trusted": true
      },
      "outputs": [
        {
          "ename": "<class 'TypeError'>",
          "evalue": "'tuple' object does not support item assignment",
          "traceback": [
            "\u001b[0;31m---------------------------------------------------------------------------\u001b[0m",
            "\u001b[0;31mTypeError\u001b[0m                                 Traceback (most recent call last)",
            "Cell \u001b[0;32mIn[178], line 1\u001b[0m\n\u001b[0;32m----> 1\u001b[0m \u001b[43mt\u001b[49m\u001b[43m[\u001b[49m\u001b[38;5;241;43m0\u001b[39;49m\u001b[43m]\u001b[49m \u001b[38;5;241m=\u001b[39m \u001b[38;5;124m'\u001b[39m\u001b[38;5;124mNEW\u001b[39m\u001b[38;5;124m'\u001b[39m\n",
            "\u001b[0;31mTypeError\u001b[0m: 'tuple' object does not support item assignment"
          ],
          "output_type": "error"
        }
      ],
      "execution_count": 178
    },
    {
      "cell_type": "markdown",
      "source": "## Dictionaries\n\nunderstand the concept of key and value",
      "metadata": {}
    },
    {
      "cell_type": "code",
      "source": "d = {'key1':'item1','key2':'item2'}",
      "metadata": {
        "collapsed": true,
        "jupyter": {
          "outputs_hidden": true
        }
      },
      "outputs": [],
      "execution_count": 37
    },
    {
      "cell_type": "code",
      "source": "d",
      "metadata": {},
      "outputs": [
        {
          "data": {
            "text/plain": [
              "{'key1': 'item1', 'key2': 'item2'}"
            ]
          },
          "execution_count": 38,
          "metadata": {},
          "output_type": "execute_result"
        }
      ],
      "execution_count": 38
    },
    {
      "cell_type": "code",
      "source": "d['key1']",
      "metadata": {},
      "outputs": [
        {
          "data": {
            "text/plain": [
              "'item1'"
            ]
          },
          "execution_count": 39,
          "metadata": {},
          "output_type": "execute_result"
        }
      ],
      "execution_count": 39
    },
    {
      "cell_type": "markdown",
      "source": "### In-class practice: ",
      "metadata": {}
    },
    {
      "cell_type": "markdown",
      "source": "**Create and Print a Dictionary**\n\nCreate a dictionary with three key-value pairs representing a person's details: \"name\", \"age\", and \"city\". Print each value.\n\n- Name: Alex (change accordingly)\n- Age: 8 (change accordingly)\n- City: Victoria (change accordingly)",
      "metadata": {}
    },
    {
      "cell_type": "code",
      "source": "",
      "metadata": {
        "trusted": true
      },
      "outputs": [
        {
          "name": "stdout",
          "output_type": "stream",
          "text": "Name: Alex\nAge: 8\nCity: Victoria\n"
        }
      ],
      "execution_count": 170
    },
    {
      "cell_type": "markdown",
      "source": "**Try to explain the output of the following code.**\n\n**Hint**: You can check external resources on this [webpage](https://www.w3schools.com/python/python_dictionaries_loop.asp)",
      "metadata": {}
    },
    {
      "cell_type": "code",
      "source": "person = {\n    \"name\": \"Alex\",\n    \"age\": 8,\n    \"city\": \"Victoria\"\n}\nfor key in person:\n    print(key)",
      "metadata": {
        "trusted": true
      },
      "outputs": [
        {
          "name": "stdout",
          "output_type": "stream",
          "text": "name\nage\ncity\n"
        }
      ],
      "execution_count": 171
    },
    {
      "cell_type": "markdown",
      "source": "**Loop Through a Dictionary**\n\nWrite a program that prints each key and value in a dictionary.\n\n**Hint**: You will need to do some research on this [webpage](https://www.w3schools.com/python/python_dictionaries_loop.asp)",
      "metadata": {}
    },
    {
      "cell_type": "code",
      "source": "person = {\n    \"name\": \"Alex\",\n    \"age\": 8,\n    \"city\": \"Victoria\"\n}",
      "metadata": {
        "trusted": true
      },
      "outputs": [],
      "execution_count": 172
    },
    {
      "cell_type": "code",
      "source": "",
      "metadata": {
        "trusted": true
      },
      "outputs": [
        {
          "name": "stdout",
          "output_type": "stream",
          "text": "name: Alex\nage: 8\ncity: Victoria\n"
        }
      ],
      "execution_count": 174
    },
    {
      "cell_type": "markdown",
      "source": "**Find the Key with the Maximum Value**\n\nFind the key that has the highest value in a dictionary.\n\n**Requirement**: You are required to use if statement\n",
      "metadata": {}
    },
    {
      "cell_type": "code",
      "source": "data = {\"a\": 10, \"b\": 20, \"c\": 50, \"d\": 5}",
      "metadata": {
        "trusted": true
      },
      "outputs": [],
      "execution_count": 175
    },
    {
      "cell_type": "code",
      "source": "",
      "metadata": {
        "trusted": true
      },
      "outputs": [
        {
          "name": "stdout",
          "output_type": "stream",
          "text": "The key with the highest value is: c\n"
        }
      ],
      "execution_count": 176
    },
    {
      "cell_type": "markdown",
      "source": "## length of Data",
      "metadata": {}
    },
    {
      "cell_type": "code",
      "source": "name = \"Alex\"\nlen(name)",
      "metadata": {
        "trusted": true
      },
      "outputs": [
        {
          "execution_count": 5,
          "output_type": "execute_result",
          "data": {
            "text/plain": "4"
          },
          "metadata": {}
        }
      ],
      "execution_count": 5
    },
    {
      "cell_type": "code",
      "source": "my_list = [1,2,3,4,5]\nlen(my_list)",
      "metadata": {
        "trusted": true
      },
      "outputs": [
        {
          "execution_count": 8,
          "output_type": "execute_result",
          "data": {
            "text/plain": "5"
          },
          "metadata": {}
        }
      ],
      "execution_count": 8
    },
    {
      "cell_type": "code",
      "source": "d = {'key1':'item1','key2':'item2'}\nlen(d)",
      "metadata": {
        "trusted": true
      },
      "outputs": [
        {
          "execution_count": 9,
          "output_type": "execute_result",
          "data": {
            "text/plain": "2"
          },
          "metadata": {}
        }
      ],
      "execution_count": 9
    },
    {
      "cell_type": "code",
      "source": "t = (1,2,3)\nlen(t)",
      "metadata": {
        "trusted": true
      },
      "outputs": [
        {
          "execution_count": 10,
          "output_type": "execute_result",
          "data": {
            "text/plain": "3"
          },
          "metadata": {}
        }
      ],
      "execution_count": 10
    },
    {
      "cell_type": "code",
      "source": "int_num = 10000\nlen(int_num)",
      "metadata": {
        "trusted": true
      },
      "outputs": [
        {
          "ename": "<class 'TypeError'>",
          "evalue": "object of type 'int' has no len()",
          "traceback": [
            "\u001b[0;31m---------------------------------------------------------------------------\u001b[0m",
            "\u001b[0;31mTypeError\u001b[0m                                 Traceback (most recent call last)",
            "Cell \u001b[0;32mIn[7], line 2\u001b[0m\n\u001b[1;32m      1\u001b[0m int_num \u001b[38;5;241m=\u001b[39m \u001b[38;5;241m10000\u001b[39m\n\u001b[0;32m----> 2\u001b[0m \u001b[38;5;28;43mlen\u001b[39;49m\u001b[43m(\u001b[49m\u001b[43mint_num\u001b[49m\u001b[43m)\u001b[49m\n",
            "\u001b[0;31mTypeError\u001b[0m: object of type 'int' has no len()"
          ],
          "output_type": "error"
        }
      ],
      "execution_count": 7
    },
    {
      "cell_type": "markdown",
      "source": "### In-class practice: ",
      "metadata": {}
    },
    {
      "cell_type": "markdown",
      "source": "**Find the Length of a List**\n\nCreate a list of cities and print how many cities are in the list.\n\n**Example**: \"There are 4 cities in the list.\"",
      "metadata": {}
    },
    {
      "cell_type": "code",
      "source": "cities = [\"New York\", \"Los Angeles\", \"Chicago\", \"Houston\"]",
      "metadata": {
        "trusted": true
      },
      "outputs": [],
      "execution_count": 179
    },
    {
      "cell_type": "code",
      "source": "",
      "metadata": {
        "trusted": true
      },
      "outputs": [
        {
          "name": "stdout",
          "output_type": "stream",
          "text": "There are 4 cities in the list.\n"
        }
      ],
      "execution_count": 180
    },
    {
      "cell_type": "markdown",
      "source": "## while Loops\n\n- It's important to use the correct **indentation**",
      "metadata": {}
    },
    {
      "cell_type": "code",
      "source": "i = 1\nwhile i < 5:\n    print(i)\n    i = i+1",
      "metadata": {
        "trusted": true
      },
      "outputs": [
        {
          "name": "stdout",
          "output_type": "stream",
          "text": "1\n2\n3\n4\n"
        }
      ],
      "execution_count": 50
    },
    {
      "cell_type": "code",
      "source": "i = 1\nwhile i < 5:\n    print(f'i is: {i}')\n    i = i+1",
      "metadata": {
        "trusted": true
      },
      "outputs": [
        {
          "name": "stdout",
          "output_type": "stream",
          "text": "i is: 1\ni is: 2\ni is: 3\ni is: 4\n"
        }
      ],
      "execution_count": 51
    },
    {
      "cell_type": "markdown",
      "source": "### In-class practice: ",
      "metadata": {}
    },
    {
      "cell_type": "markdown",
      "source": "**Print Numbers from 1 to 10**\n\nWrite a program that prints numbers from 1 to 10 using a while loop.",
      "metadata": {}
    },
    {
      "cell_type": "code",
      "source": "",
      "metadata": {
        "trusted": true
      },
      "outputs": [
        {
          "name": "stdout",
          "output_type": "stream",
          "text": "1\n2\n3\n4\n5\n6\n7\n8\n9\n10\n"
        }
      ],
      "execution_count": 181
    },
    {
      "cell_type": "markdown",
      "source": "**Sum of Numbers from 1 to 100**\n\nCalculate and print the sum of numbers from 1 to 100 using a while loop.\n\n**Expected Result**: 5050",
      "metadata": {}
    },
    {
      "cell_type": "code",
      "source": "",
      "metadata": {
        "trusted": true
      },
      "outputs": [
        {
          "name": "stdout",
          "output_type": "stream",
          "text": "Sum: 5050\n"
        }
      ],
      "execution_count": 183
    },
    {
      "cell_type": "markdown",
      "source": "## functions\n\n- It's important to use the correct **indentation**",
      "metadata": {}
    },
    {
      "cell_type": "code",
      "source": "def my_func(param1='default'):\n    \"\"\"\n    Docstring goes here.\n    \"\"\"\n    print(param1)",
      "metadata": {
        "trusted": true
      },
      "outputs": [],
      "execution_count": 57
    },
    {
      "cell_type": "code",
      "source": "my_func",
      "metadata": {
        "trusted": true
      },
      "outputs": [
        {
          "execution_count": 58,
          "output_type": "execute_result",
          "data": {
            "text/plain": "<function __main__.my_func(param1='default')>"
          },
          "metadata": {}
        }
      ],
      "execution_count": 58
    },
    {
      "cell_type": "code",
      "source": "my_func()",
      "metadata": {
        "trusted": true
      },
      "outputs": [
        {
          "name": "stdout",
          "output_type": "stream",
          "text": "default\n"
        }
      ],
      "execution_count": 59
    },
    {
      "cell_type": "code",
      "source": "my_func('new param')",
      "metadata": {
        "trusted": true
      },
      "outputs": [
        {
          "name": "stdout",
          "output_type": "stream",
          "text": "new param\n"
        }
      ],
      "execution_count": 60
    },
    {
      "cell_type": "code",
      "source": "my_func(param1='new param')",
      "metadata": {
        "trusted": true
      },
      "outputs": [
        {
          "name": "stdout",
          "output_type": "stream",
          "text": "new param\n"
        }
      ],
      "execution_count": 61
    },
    {
      "cell_type": "code",
      "source": "def square(x):\n    return x**2",
      "metadata": {
        "trusted": true
      },
      "outputs": [],
      "execution_count": 62
    },
    {
      "cell_type": "code",
      "source": "out = square(2)",
      "metadata": {
        "trusted": true
      },
      "outputs": [],
      "execution_count": 63
    },
    {
      "cell_type": "code",
      "source": "print(out)",
      "metadata": {
        "scrolled": true,
        "trusted": true
      },
      "outputs": [
        {
          "name": "stdout",
          "output_type": "stream",
          "text": "4\n"
        }
      ],
      "execution_count": 64
    },
    {
      "cell_type": "code",
      "source": "def test_func(a, b):\n    a = a + 1\n    b = b + 2\n    return a,b\n\nupdated_a, updated_b = test_func(3, 4)\n\nprint(f\"updated a is {updated_a} and updated b is {updated_b}\")",
      "metadata": {
        "trusted": true
      },
      "outputs": [
        {
          "name": "stdout",
          "output_type": "stream",
          "text": "updated a is 4 and updated b is 6\n"
        }
      ],
      "execution_count": 70
    },
    {
      "cell_type": "code",
      "source": "def test_func(a, b):\n    a = a + 1\n    b = b + 2\n    return a,b\n\nupdated_a, updated_b = test_func(b=4, a=3)\n\nprint(f\"updated a is {updated_a} and updated b is {updated_b}\")",
      "metadata": {
        "trusted": true
      },
      "outputs": [
        {
          "name": "stdout",
          "output_type": "stream",
          "text": "updated a is 4 and updated b is 6\n"
        }
      ],
      "execution_count": 71
    },
    {
      "cell_type": "markdown",
      "source": "### In-class practice:",
      "metadata": {}
    },
    {
      "cell_type": "markdown",
      "source": "**Create a Function and Call It**\n\nWrite a function greet() that prints \"Hello, welcome to Python!\" and call the function.",
      "metadata": {}
    },
    {
      "cell_type": "code",
      "source": "",
      "metadata": {
        "trusted": true
      },
      "outputs": [
        {
          "name": "stdout",
          "output_type": "stream",
          "text": "Hello, welcome to Python!\n"
        }
      ],
      "execution_count": 91
    },
    {
      "cell_type": "markdown",
      "source": "**Function with One Parameter**\n\nWrite a function greet(name) that takes a name as an argument and prints a greeting.",
      "metadata": {}
    },
    {
      "cell_type": "code",
      "source": "",
      "metadata": {
        "trusted": true
      },
      "outputs": [
        {
          "name": "stdout",
          "output_type": "stream",
          "text": "Hello, Alex!\n"
        }
      ],
      "execution_count": 92
    },
    {
      "cell_type": "markdown",
      "source": "**Greet a Person Using Positional Arguments**\n\nWrite a function greet(name, city) that prints a greeting using the given name and city.\n\n**Example**: \"Hello Alex, welcome to Victoria!\"",
      "metadata": {}
    },
    {
      "cell_type": "code",
      "source": "",
      "metadata": {
        "trusted": true
      },
      "outputs": [
        {
          "name": "stdout",
          "output_type": "stream",
          "text": "Hello Alex, welcome to Victoria!\n"
        }
      ],
      "execution_count": 96
    },
    {
      "cell_type": "markdown",
      "source": "**Calculate the Area of a Rectangle**\n\nWrite a function rectangle_area(length, width) that returns the area.",
      "metadata": {}
    },
    {
      "cell_type": "code",
      "source": "",
      "metadata": {
        "trusted": true
      },
      "outputs": [
        {
          "name": "stdout",
          "output_type": "stream",
          "text": "Area: 50\n"
        }
      ],
      "execution_count": 97
    },
    {
      "cell_type": "markdown",
      "source": "**Check if a Number is Even or Odd**\n\nWrite a function is_even(n) that returns True if n is even and False if odd.",
      "metadata": {}
    },
    {
      "cell_type": "code",
      "source": "",
      "metadata": {
        "trusted": true
      },
      "outputs": [
        {
          "name": "stdout",
          "output_type": "stream",
          "text": "Is 8 even? True\nIs 7 even? False\n"
        }
      ],
      "execution_count": 93
    },
    {
      "cell_type": "markdown",
      "source": "**Calculate the Power of a Number**\n\nWrite a function power(base, exponent) that calculates base raised to the power of exponent.\n\n**Example**: $2^3 = 8$",
      "metadata": {}
    },
    {
      "cell_type": "code",
      "source": "",
      "metadata": {
        "trusted": true
      },
      "outputs": [
        {
          "name": "stdout",
          "output_type": "stream",
          "text": "2^3 = 8\n"
        }
      ],
      "execution_count": 98
    },
    {
      "cell_type": "markdown",
      "source": "**Function to Find the Maximum of Three Numbers**\n\nWrite a function find_max(a, b, c) that returns the largest of three numbers.",
      "metadata": {}
    },
    {
      "cell_type": "code",
      "source": "",
      "metadata": {
        "trusted": true
      },
      "outputs": [
        {
          "name": "stdout",
          "output_type": "stream",
          "text": "Largest number: 20\n"
        }
      ],
      "execution_count": 94
    },
    {
      "cell_type": "markdown",
      "source": "**Function to Calculate Factorial**\n\nWrite a function factorial(n) that returns the factorial of n.\n\nExample: Factorial of 5 is $1*2*3*4*5=120$",
      "metadata": {}
    },
    {
      "cell_type": "code",
      "source": "",
      "metadata": {
        "trusted": true
      },
      "outputs": [
        {
          "name": "stdout",
          "output_type": "stream",
          "text": "Factorial of 5: 120\n"
        }
      ],
      "execution_count": 95
    }
  ]
}