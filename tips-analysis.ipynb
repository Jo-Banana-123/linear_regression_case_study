{
  "metadata": {
    "kernelspec": {
      "name": "python",
      "display_name": "Python (Pyodide)",
      "language": "python"
    },
    "language_info": {
      "codemirror_mode": {
        "name": "python",
        "version": 3
      },
      "file_extension": ".py",
      "mimetype": "text/x-python",
      "name": "python",
      "nbconvert_exporter": "python",
      "pygments_lexer": "ipython3",
      "version": "3.8"
    }
  },
  "nbformat_minor": 5,
  "nbformat": 4,
  "cells": [
    {
      "id": "c505f9a9-2894-4540-9ab6-3a974bcffbb1",
      "cell_type": "markdown",
      "source": "# Question Focus:\n\n**Note**: Interpretation is the mean focus, you don't need to perform calculation manually. You are allowed to use build-in function to perform following calculation.\n\n**Pre-requirement**: Please understand the feature of dataset before perform any analysis\n\n1. Mean, Median, and Mode Analysis(Histogram Analysis)\n    - What are the mean, median, and mode of the total bill amounts in the dataset?\n    - Compare the mean and median—what does their relationship tell us about the data distribution?\n\n2. IQR-Based Denoising (Outlier Removal)\n    - Identify and remove outliers from the total bill column using the Interquartile Range (IQR) method.\n    - How does the mean and standard deviation change before and after removing outliers?\n    - Please give Interpretation of Outlier Removal on Total Bill Data\n\n3. Tip Analysis(**Hint**: Please calculate the value after remove the outliers)\n    - Calculate the mean, median, mode, min, max, and standard deviation of tips. (Plot is optional)\n    - Please give Interpretation of these result.\n\n4. Correlation Analysis\n    - Compute the correlation between total bill and tip. Interpret the result.\n    - Compute the correlation between total bill and size of the party. What does the correlation suggest?\n    - Based on all the above analyses, summarize whether higher bills lead to higher tips and whether group size affects total spending.\n\n5. This is thinking question, no coding involves\n    - In order to perform a better understanding of tip behavior, what further analysis idea do you need?",
      "metadata": {}
    },
    {
      "id": "4c15fe76-e651-48cc-9224-8948f4eb465f",
      "cell_type": "code",
      "source": "import numpy as np\nimport pandas as pd\nimport matplotlib.pyplot as plt",
      "metadata": {
        "trusted": true
      },
      "outputs": [
        {
          "name": "stderr",
          "output_type": "stream",
          "text": "Matplotlib is building the font cache; this may take a moment.\n"
        }
      ],
      "execution_count": 2
    },
    {
      "id": "a3e59384-d136-4e3d-bab2-ac29efbc3543",
      "cell_type": "markdown",
      "source": "## Loading the dataset\n\n----\nAbout this DataSet (in case you are interested)\n\n* Description\n    * One waiter recorded information about each tip he received over a period of a few months working in one restaurant. He collected several variables:\n\n* Format\n    * A data frame with 244 rows and 7 variables\n\n* Details\n    * tip in dollars,\n    * bill in dollars,\n    * sex of the bill payer,\n    * whether there were smokers in the party,\n    * day of the week,\n    * time of day,\n    * size of the party.\n\nIn all he recorded 244 tips. The data was reported in a collection of case studies for business statistics (Bryant & Smith 1995).\n\n* References\n    * Bryant, P. G. and Smith, M (1995) Practical Data Analysis: Case Studies in Business Statistics. Homewood, IL: Richard D. Irwin Publishing:\n    \n* Note: We created some additional columns with Fake data, including Name, CC Number, and Payment ID.\n\n----",
      "metadata": {}
    },
    {
      "id": "c4038fbe-016d-46a4-b5c3-0bf809538502",
      "cell_type": "code",
      "source": "# Loading the dataset here",
      "metadata": {
        "trusted": true
      },
      "outputs": [],
      "execution_count": 6
    },
    {
      "id": "1ea9272a-38a6-422f-a13e-89a0f5238263",
      "cell_type": "markdown",
      "source": "## Mean, Median, and Mode Analysis",
      "metadata": {}
    },
    {
      "id": "31ca50e2-9ae1-48f0-96fe-95204473e138",
      "cell_type": "code",
      "source": "# Mean, Median, and Mode Analysis here",
      "metadata": {
        "trusted": true
      },
      "outputs": [],
      "execution_count": null
    },
    {
      "id": "9433b888-7406-484f-814e-85543cb6110d",
      "cell_type": "markdown",
      "source": "## IQR Denoise",
      "metadata": {}
    },
    {
      "id": "ccd6af2a-03af-4c73-99e9-3fd511eeb4ed",
      "cell_type": "code",
      "source": "# IQR Denoise here",
      "metadata": {
        "trusted": true,
        "scrolled": true
      },
      "outputs": [],
      "execution_count": 5
    },
    {
      "id": "b03cf436-3019-4dba-b2b5-c12cc0e31a78",
      "cell_type": "markdown",
      "source": "## Tip Analysis",
      "metadata": {}
    },
    {
      "id": "461c6266-9ff8-4013-988c-819d83ae3f2c",
      "cell_type": "code",
      "source": "# Tip Analysis here",
      "metadata": {
        "trusted": true
      },
      "outputs": [],
      "execution_count": 2
    },
    {
      "id": "b17de09b-55eb-4983-bd3c-2b77b466891d",
      "cell_type": "markdown",
      "source": "## Correlation Analysis\n",
      "metadata": {}
    },
    {
      "id": "21f54bbf-396b-47ba-99f8-1467a39fa238",
      "cell_type": "code",
      "source": "# Correlation Analysis here",
      "metadata": {
        "trusted": true
      },
      "outputs": [],
      "execution_count": 4
    },
    {
      "id": "71af8388-f97d-4760-8c79-81f53647d15f",
      "cell_type": "markdown",
      "source": "## Thinking Question: Further Analysis Ideas for Better Understanding of Tipping Behavior",
      "metadata": {}
    },
    {
      "id": "8212c3c0-10f2-4b56-a3c1-919a34d17165",
      "cell_type": "markdown",
      "source": "You can write your answer here",
      "metadata": {}
    }
  ]
}