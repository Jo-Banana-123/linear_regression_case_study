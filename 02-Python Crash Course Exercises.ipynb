{
  "cells": [
    {
      "cell_type": "markdown",
      "metadata": {},
      "source": [
        "## Exercises\n",
        "\n",
        "Answer the questions or complete the tasks outlined in bold below, use the specific method described if applicable."
      ]
    },
    {
      "cell_type": "markdown",
      "metadata": {},
      "source": [
        "**What is 7 to the power of 4?**"
      ]
    },
    {
      "cell_type": "code",
      "execution_count": 18,
      "metadata": {
        "trusted": true
      },
      "outputs": [
        {
          "name": "stdout",
          "output_type": "stream",
          "text": [
            "2401\n"
          ]
        }
      ],
      "source": [
        "n = 7**4\n",
        "print(n)"
      ]
    },
    {
      "cell_type": "markdown",
      "metadata": {},
      "source": [
        "**Given the variables:**\n",
        "\n",
        "    planet = \"Earth\"\n",
        "    diameter = 12742\n",
        "\n",
        "**Use f-string to print the following string:**\n",
        "\n",
        "    The diameter of Earth is 12742 kilometers."
      ]
    },
    {
      "cell_type": "code",
      "execution_count": 19,
      "metadata": {
        "trusted": true
      },
      "outputs": [
        {
          "name": "stdout",
          "output_type": "stream",
          "text": [
            "The diameter of Earth is 12742 kilometers.\n"
          ]
        }
      ],
      "source": [
        "planet = \"Earth\"\n",
        "diameter = 12742\n",
        "\n",
        "print(f\"The diameter of {planet} is {diameter} kilometers.\")"
      ]
    },
    {
      "cell_type": "markdown",
      "metadata": {},
      "source": [
        "**Predict the output of following code without running the code**\n",
        "\n",
        "You need to explain the reason why"
      ]
    },
    {
      "cell_type": "code",
      "execution_count": 20,
      "metadata": {
        "trusted": true
      },
      "outputs": [
        {
          "name": "stdout",
          "output_type": "stream",
          "text": [
            "8.0\n",
            "12.0\n"
          ]
        }
      ],
      "source": [
        "print(3*3 + 3/3 -2)\n",
        "\n",
        "print(3*3 + 3/(3 -2))"
      ]
    },
    {
      "cell_type": "markdown",
      "metadata": {},
      "source": [
        "The first expression outputs 8.0 while the second outputs 12.0, because Python follows order of operations and the devisions make the final results doubles instead of int."
      ]
    },
    {
      "cell_type": "markdown",
      "metadata": {},
      "source": [
        "**BMI Calculator**\n",
        "\n",
        "BMI is a measurement of a person's leanness or corpulence based on their height and weight, and is intended to quantify tissue mass.\n",
        "\n",
        "It can be calculate with following equation: $BMI = Weight/(Height^2)$\n",
        "\n",
        "Weight unit is **kg**; and Height unit is in **meter**.\n",
        "\n",
        "\n",
        "[More detail can be found in this link](https://www.calculator.net/bmi-calculator.html) \n",
        "\n",
        "Please create two variables which stores your weight and height. Please write your own program to calculate your own BMI. **Compare** your result with the provided link above."
      ]
    },
    {
      "cell_type": "code",
      "execution_count": 21,
      "metadata": {
        "trusted": true
      },
      "outputs": [
        {
          "name": "stdout",
          "output_type": "stream",
          "text": [
            "23.888440980620498\n"
          ]
        }
      ],
      "source": [
        "weight = 80\n",
        "height = 1.83\n",
        "\n",
        "BMI = weight/(height**2)\n",
        "print(BMI)"
      ]
    },
    {
      "cell_type": "markdown",
      "metadata": {},
      "source": [
        "**Life in days and weeks**\n",
        "\n",
        "- Given a person's age in years, how can I calculate the total number of days or weeks they have lived?\n",
        "- Assume we have 365 days/year."
      ]
    },
    {
      "cell_type": "code",
      "execution_count": 22,
      "metadata": {
        "trusted": true
      },
      "outputs": [
        {
          "name": "stdout",
          "output_type": "stream",
          "text": [
            "This person will live for 6205 days or 886.4285714285714 weeks.\n"
          ]
        }
      ],
      "source": [
        "lifetime = 17 # you can change this accordingly\n",
        "\n",
        "days = lifetime * 365\n",
        "weeks = days/7\n",
        "print(f\"This person will live for {days} days or {weeks} weeks.\")"
      ]
    },
    {
      "cell_type": "markdown",
      "metadata": {},
      "source": [
        "**Tip calculator**\n",
        "\n",
        "- If the bill was $150.00, split between 5 people, with 12% tip.\n",
        "- Please calculate bill for each person(tax exclusive)"
      ]
    },
    {
      "cell_type": "code",
      "execution_count": 23,
      "metadata": {
        "trusted": true
      },
      "outputs": [
        {
          "name": "stdout",
          "output_type": "stream",
          "text": [
            "33.6\n"
          ]
        }
      ],
      "source": [
        "bill = 150\n",
        "tip = 12 # You can't modify this value\n",
        "people = 5\n",
        "print((bill/people)*(1+(tip)/100))"
      ]
    },
    {
      "cell_type": "markdown",
      "metadata": {},
      "source": [
        "**Rollercoaster Task 1**\n",
        "\n",
        "Rollercoaster ride eligibility:\n",
        "- If a child's height is greater than 120 cm, display: 'You can ride the rollercoaster!'.\n",
        "- Otherwise, display: 'Sorry, you have to grow taller before you can ride.'”*\n"
      ]
    },
    {
      "cell_type": "code",
      "execution_count": 36,
      "metadata": {
        "trusted": true
      },
      "outputs": [
        {
          "name": "stdout",
          "output_type": "stream",
          "text": [
            "Sorry, you have to grow taller before you can ride.\n"
          ]
        }
      ],
      "source": [
        "height = 120 # change accordingly\n",
        "\n",
        "if height > 120:\n",
        "    print(\"You can ride the rollercoaster!\")\n",
        "else:\n",
        "    print(\"Sorry, you have to grow taller before you can ride.\")"
      ]
    },
    {
      "cell_type": "markdown",
      "metadata": {},
      "source": [
        "**Rollercoaster Task 2**\n",
        "\n",
        "Rollercoaster ride eligibility:\n",
        "- If a child's height is greater than 120 cm, display: \"You can ride the rollercoaster!\".\n",
        "- Otherwise, display: \"Sorry, you have to grow taller before you can ride.\"\n",
        "\n",
        "Ticket pricing:\n",
        "- If the person is 18 years old or younger, display: \"Please pay 7 dollars.\"\n",
        "- If the person is older than 18 years, display: \"Please pay 12 dollars.\""
      ]
    },
    {
      "cell_type": "code",
      "execution_count": null,
      "metadata": {
        "trusted": true
      },
      "outputs": [],
      "source": [
        "height = 130  # change accordingly\n",
        "age = 14      # change accordingly\n",
        "\n",
        "if height > 120:\n",
        "    print(\"You can ride the rollercoaster!\")\n",
        "else:\n",
        "    print(\"Sorry, you have to grow taller before you can ride.\")\n",
        "\n",
        "if age <= 18:\n",
        "    print(\"Please pay 7 dollars\")\n",
        "else:\n",
        "    print(\"Please pay 12 dollars\")"
      ]
    },
    {
      "cell_type": "markdown",
      "metadata": {},
      "source": [
        "**Even or odd number**\n",
        "\n",
        "- Write a program to determine any given positive integer number is even or odd number "
      ]
    },
    {
      "cell_type": "code",
      "execution_count": 37,
      "metadata": {
        "trusted": true
      },
      "outputs": [
        {
          "name": "stdout",
          "output_type": "stream",
          "text": [
            "odd\n"
          ]
        }
      ],
      "source": [
        "num = 5 # change accordingly\n",
        "\n",
        "if num%2 == 0:\n",
        "    print(\"even\")\n",
        "else:\n",
        "    print(\"odd\")"
      ]
    },
    {
      "cell_type": "markdown",
      "metadata": {},
      "source": [
        "**Given this nested list, use indexing to grab the word \"hello\"**"
      ]
    },
    {
      "cell_type": "code",
      "execution_count": 41,
      "metadata": {},
      "outputs": [
        {
          "name": "stdout",
          "output_type": "stream",
          "text": [
            "['hello']\n"
          ]
        }
      ],
      "source": [
        "lst = [1,2,[3,4],[5,[100,200,['hello']],23,11],1,7]\n",
        "\n",
        "print(lst[3][1][2])"
      ]
    },
    {
      "cell_type": "markdown",
      "metadata": {},
      "source": [
        "**Given this nest dictionary grab the word \"hello\". Be prepared, this will be annoying/tricky**"
      ]
    },
    {
      "cell_type": "code",
      "execution_count": 46,
      "metadata": {},
      "outputs": [
        {
          "name": "stdout",
          "output_type": "stream",
          "text": [
            "hello\n"
          ]
        }
      ],
      "source": [
        "d = {'k1':[1,2,3,{'tricky':['oh','man','inception',{'target':[1,2,3,'hello']}]}]}\n",
        "\n",
        "print(d[\"k1\"][3][\"tricky\"][3][\"target\"][3])"
      ]
    },
    {
      "cell_type": "markdown",
      "metadata": {},
      "source": [
        "**What is the main difference between a tuple and a list?**"
      ]
    },
    {
      "cell_type": "markdown",
      "metadata": {},
      "source": [
        "Tuples are immutable (can't be changed) while lists are mutable (changeable). "
      ]
    },
    {
      "cell_type": "markdown",
      "metadata": {},
      "source": [
        "**Explain the output for the following code**"
      ]
    },
    {
      "cell_type": "code",
      "execution_count": null,
      "metadata": {},
      "outputs": [],
      "source": [
        "fruits = [\"Apple\", \"Cherry\", \"Pear\"]\n",
        "for fruit in fruits:\n",
        "\tprint(fruit)"
      ]
    },
    {
      "cell_type": "markdown",
      "metadata": {},
      "source": [
        "The code will output Apple, Cherry, and Pear each in different lines. The code takes each element in the list fruits and prints it out. "
      ]
    },
    {
      "cell_type": "markdown",
      "metadata": {},
      "source": [
        "**Predict the output for the following code**"
      ]
    },
    {
      "cell_type": "code",
      "execution_count": null,
      "metadata": {
        "trusted": true
      },
      "outputs": [],
      "source": [
        "for number in range(1,10):\n",
        "\tprint(number)"
      ]
    },
    {
      "cell_type": "markdown",
      "metadata": {},
      "source": [
        "This code will output every number from 1 to 9 in separate lines. "
      ]
    },
    {
      "cell_type": "markdown",
      "metadata": {},
      "source": [
        "**Create a program that adds all the integer numbers from 1 to 100 and outputs the total sum.**\n",
        "\n",
        "- You should expect the total result is going to be 5050\n",
        "- Challenge: try to complete this program with only 4 or 5 line of code"
      ]
    },
    {
      "cell_type": "code",
      "execution_count": 45,
      "metadata": {
        "trusted": true
      },
      "outputs": [
        {
          "name": "stdout",
          "output_type": "stream",
          "text": [
            "5050\n"
          ]
        }
      ],
      "source": [
        "result = 0\n",
        "for i in range(1, 101):\n",
        "    result += i\n",
        "print(result)"
      ]
    },
    {
      "cell_type": "markdown",
      "metadata": {},
      "source": [
        "**Write a program that uses a while loop to print the numbers 5, 4, 3, 2, 1 in that order（Every individual number will be printed in separate line）.**"
      ]
    },
    {
      "cell_type": "code",
      "execution_count": 47,
      "metadata": {
        "trusted": true
      },
      "outputs": [
        {
          "name": "stdout",
          "output_type": "stream",
          "text": [
            "5\n",
            "4\n",
            "3\n",
            "2\n",
            "1\n"
          ]
        }
      ],
      "source": [
        "n = 5\n",
        "while n > 0:\n",
        "    print(n)\n",
        "    n -= 1"
      ]
    },
    {
      "cell_type": "markdown",
      "metadata": {},
      "source": [
        "**How can I write a Python function that takes two numbers as input and returns their sum?**\n",
        "\n",
        "- You are given partial code below and you have to use function to complete this task"
      ]
    },
    {
      "cell_type": "code",
      "execution_count": 52,
      "metadata": {
        "trusted": true
      },
      "outputs": [
        {
          "data": {
            "text/plain": [
              "13176"
            ]
          },
          "execution_count": 52,
          "metadata": {},
          "output_type": "execute_result"
        }
      ],
      "source": [
        "def add_numbers(x, y):\n",
        "    sum = x+y\n",
        "    return sum\n",
        "   \n",
        "\n",
        "# Define the numbers to be added\n",
        "number1 = 233\n",
        "number2 = 12943\n",
        "\n",
        "# Call the function and store the result\n",
        "add_numbers(number1, number2)"
      ]
    },
    {
      "cell_type": "markdown",
      "metadata": {},
      "source": [
        "**How can I return both the sum and product of two numbers in Python?**\n",
        "- You must complete the task by using function"
      ]
    },
    {
      "cell_type": "code",
      "execution_count": 54,
      "metadata": {
        "trusted": true
      },
      "outputs": [
        {
          "name": "stdout",
          "output_type": "stream",
          "text": [
            "12\n",
            "35\n"
          ]
        }
      ],
      "source": [
        "def sum_and_product(x, y):\n",
        "    sum = x+y\n",
        "    product = x*y\n",
        "    print(sum)\n",
        "    print(product)\n",
        "\n",
        "number1 = 5\n",
        "number2 = 7\n",
        "\n",
        "# Using a single variable to hold the returned tuple\n",
        "sum_and_product(number1, number2)"
      ]
    },
    {
      "cell_type": "markdown",
      "metadata": {},
      "source": [
        "## Challenging Programs"
      ]
    },
    {
      "cell_type": "markdown",
      "metadata": {},
      "source": [
        "**Print all numbers from 1 to 15. However, follow these rules:**\n",
        "\n",
        "- If a number is divisible by 3, print 'Fizz'.\n",
        "- If a number is divisible by 5, print 'Buzz'.\n",
        "- If a number is divisible by both 3 and 5, print 'FizzBuzz'.\n",
        "- Otherwise, print the number itself.\""
      ]
    },
    {
      "cell_type": "code",
      "execution_count": 60,
      "metadata": {
        "trusted": true
      },
      "outputs": [
        {
          "name": "stdout",
          "output_type": "stream",
          "text": [
            "1\n",
            "2\n",
            "Fizz\n",
            "4\n",
            "Buzz\n",
            "Fizz\n",
            "7\n",
            "8\n",
            "Fizz\n",
            "Buzz\n",
            "11\n",
            "Fizz\n",
            "13\n",
            "14\n",
            "FizzBuzz\n"
          ]
        }
      ],
      "source": [
        "target = 15\n",
        "\n",
        "for i in range(1, target+1):\n",
        "    if (i % 3 == 0) & (i % 5 == 0):\n",
        "        print(\"FizzBuzz\")\n",
        "    elif i % 3 == 0:\n",
        "        print(\"Fizz\")\n",
        "    elif i % 5 == 0:\n",
        "        print(\"Buzz\")\n",
        "    else:\n",
        "        print(i)"
      ]
    },
    {
      "cell_type": "markdown",
      "metadata": {},
      "source": [
        "**You are driving a little too fast, and a police officer stops you. Write a function to return one of 3 possible results: \"No ticket\", \"Small ticket\", or \"Big Ticket\". If your speed is 60 or less, the result is \"No Ticket\". If speed is between 61 and 80 inclusive, the result is \"Small Ticket\". If speed is 81 or more, the result is \"Big Ticket\". Unless it is your birthday (encoded as a boolean value in the parameters of the function) -- on your birthday, your speed can be 5 higher in all cases.**"
      ]
    },
    {
      "cell_type": "code",
      "execution_count": 65,
      "metadata": {
        "collapsed": true,
        "jupyter": {
          "outputs_hidden": true
        }
      },
      "outputs": [
        {
          "name": "stdout",
          "output_type": "stream",
          "text": [
            "Small ticket\n",
            "Big ticket\n"
          ]
        }
      ],
      "source": [
        "def caught_speeding(speed, is_birthday):\n",
        "\n",
        "    if is_birthday:\n",
        "        speed -= 5\n",
        "    if speed >= 81:\n",
        "        print(\"Big ticket\")\n",
        "    elif speed >= 61 & speed <= 80:\n",
        "        print(\"Small ticket\")\n",
        "    else: \n",
        "        print(\"No ticket\")\n",
        "\n",
        "caught_speeding(81,True)\n",
        "caught_speeding(81,False)"
      ]
    }
  ],
  "metadata": {
    "kernelspec": {
      "display_name": "Python 3",
      "language": "python",
      "name": "python3"
    },
    "language_info": {
      "codemirror_mode": {
        "name": "ipython",
        "version": 3
      },
      "file_extension": ".py",
      "mimetype": "text/x-python",
      "name": "python",
      "nbconvert_exporter": "python",
      "pygments_lexer": "ipython3",
      "version": "3.10.4"
    }
  },
  "nbformat": 4,
  "nbformat_minor": 4
}
